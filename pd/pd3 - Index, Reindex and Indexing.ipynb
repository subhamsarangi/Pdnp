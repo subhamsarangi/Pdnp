{
 "cells": [
  {
   "cell_type": "markdown",
   "metadata": {},
   "source": [
    "# Index Objects"
   ]
  },
  {
   "cell_type": "code",
   "execution_count": 1,
   "metadata": {
    "collapsed": true
   },
   "outputs": [],
   "source": [
    "import numpy as np\n",
    "from pandas import Series, DataFrame\n",
    "import pandas as pd"
   ]
  },
  {
   "cell_type": "code",
   "execution_count": 2,
   "metadata": {},
   "outputs": [
    {
     "data": {
      "text/plain": [
       "A    1\n",
       "B    2\n",
       "C    3\n",
       "D    4\n",
       "dtype: int64"
      ]
     },
     "execution_count": 2,
     "metadata": {},
     "output_type": "execute_result"
    }
   ],
   "source": [
    "my_ser = Series([1,2,3,4], index=['A','B','C','D'])\n",
    "my_ser"
   ]
  },
  {
   "cell_type": "code",
   "execution_count": 3,
   "metadata": {},
   "outputs": [
    {
     "data": {
      "text/plain": [
       "Index(['A', 'B', 'C', 'D'], dtype='object')"
      ]
     },
     "execution_count": 3,
     "metadata": {},
     "output_type": "execute_result"
    }
   ],
   "source": [
    "my_index = my_ser.index\n",
    "my_index"
   ]
  },
  {
   "cell_type": "code",
   "execution_count": 4,
   "metadata": {},
   "outputs": [
    {
     "data": {
      "text/plain": [
       "'C'"
      ]
     },
     "execution_count": 4,
     "metadata": {},
     "output_type": "execute_result"
    }
   ],
   "source": [
    "my_index[2]"
   ]
  },
  {
   "cell_type": "code",
   "execution_count": 5,
   "metadata": {},
   "outputs": [
    {
     "data": {
      "text/plain": [
       "Index(['C', 'D'], dtype='object')"
      ]
     },
     "execution_count": 5,
     "metadata": {},
     "output_type": "execute_result"
    }
   ],
   "source": [
    "my_index[2:]"
   ]
  },
  {
   "cell_type": "code",
   "execution_count": 6,
   "metadata": {
    "collapsed": true
   },
   "outputs": [],
   "source": [
    "#my_index[0] = 'Z'\n",
    "# the previous operation gives errors because indexes are imutable"
   ]
  },
  {
   "cell_type": "markdown",
   "metadata": {},
   "source": [
    "## Reindexing a Series"
   ]
  },
  {
   "cell_type": "code",
   "execution_count": 7,
   "metadata": {
    "collapsed": true
   },
   "outputs": [],
   "source": [
    "from numpy.random import randn"
   ]
  },
  {
   "cell_type": "code",
   "execution_count": 8,
   "metadata": {},
   "outputs": [
    {
     "data": {
      "text/plain": [
       "A    1.0\n",
       "B    2.0\n",
       "C    3.0\n",
       "D    4.0\n",
       "E    NaN\n",
       "F    NaN\n",
       "dtype: float64"
      ]
     },
     "execution_count": 8,
     "metadata": {},
     "output_type": "execute_result"
    }
   ],
   "source": [
    "new_ser = my_ser.reindex(['A','B','C','D','E','F'])\n",
    "new_ser"
   ]
  },
  {
   "cell_type": "code",
   "execution_count": 9,
   "metadata": {},
   "outputs": [
    {
     "data": {
      "text/plain": [
       "A    1.0\n",
       "B    2.0\n",
       "C    3.0\n",
       "D    4.0\n",
       "E    NaN\n",
       "F    NaN\n",
       "G    0.0\n",
       "dtype: float64"
      ]
     },
     "execution_count": 9,
     "metadata": {},
     "output_type": "execute_result"
    }
   ],
   "source": [
    "new_ser.reindex(['A','B','C','D','E','F','G'],fill_value=0)"
   ]
  },
  {
   "cell_type": "code",
   "execution_count": 10,
   "metadata": {},
   "outputs": [
    {
     "data": {
      "text/plain": [
       "0       USA\n",
       "3    Mexico\n",
       "6    Canada\n",
       "dtype: object"
      ]
     },
     "execution_count": 10,
     "metadata": {},
     "output_type": "execute_result"
    }
   ],
   "source": [
    "ser1 = Series(['USA','Mexico','Canada'], index=[0,3,6])\n",
    "ser1"
   ]
  },
  {
   "cell_type": "code",
   "execution_count": 11,
   "metadata": {},
   "outputs": [
    {
     "data": {
      "text/plain": [
       "0       USA\n",
       "1       NaN\n",
       "2       NaN\n",
       "3    Mexico\n",
       "4       NaN\n",
       "5       NaN\n",
       "6    Canada\n",
       "7       NaN\n",
       "8       NaN\n",
       "dtype: object"
      ]
     },
     "execution_count": 11,
     "metadata": {},
     "output_type": "execute_result"
    }
   ],
   "source": [
    "ranger=range(9)\n",
    "ser1.reindex(ranger)"
   ]
  },
  {
   "cell_type": "code",
   "execution_count": 12,
   "metadata": {},
   "outputs": [
    {
     "data": {
      "text/plain": [
       "0       USA\n",
       "1       USA\n",
       "2       USA\n",
       "3    Mexico\n",
       "4    Mexico\n",
       "5    Mexico\n",
       "6    Canada\n",
       "7    Canada\n",
       "8    Canada\n",
       "dtype: object"
      ]
     },
     "execution_count": 12,
     "metadata": {},
     "output_type": "execute_result"
    }
   ],
   "source": [
    "ser1.reindex(ranger,method='ffill') # forward filling method"
   ]
  },
  {
   "cell_type": "markdown",
   "metadata": {},
   "source": [
    "## Reindexing DataFrames"
   ]
  },
  {
   "cell_type": "code",
   "execution_count": 19,
   "metadata": {},
   "outputs": [
    {
     "data": {
      "text/html": [
       "<div>\n",
       "<style>\n",
       "    .dataframe thead tr:only-child th {\n",
       "        text-align: right;\n",
       "    }\n",
       "\n",
       "    .dataframe thead th {\n",
       "        text-align: left;\n",
       "    }\n",
       "\n",
       "    .dataframe tbody tr th {\n",
       "        vertical-align: top;\n",
       "    }\n",
       "</style>\n",
       "<table border=\"1\" class=\"dataframe\">\n",
       "  <thead>\n",
       "    <tr style=\"text-align: right;\">\n",
       "      <th></th>\n",
       "      <th>col1</th>\n",
       "      <th>col2</th>\n",
       "      <th>col3</th>\n",
       "      <th>col four</th>\n",
       "      <th>col5</th>\n",
       "    </tr>\n",
       "  </thead>\n",
       "  <tbody>\n",
       "    <tr>\n",
       "      <th>A</th>\n",
       "      <td>-0.934786</td>\n",
       "      <td>-1.338064</td>\n",
       "      <td>-1.146724</td>\n",
       "      <td>-0.536880</td>\n",
       "      <td>-0.841196</td>\n",
       "    </tr>\n",
       "    <tr>\n",
       "      <th>B</th>\n",
       "      <td>-1.499768</td>\n",
       "      <td>0.615511</td>\n",
       "      <td>-0.423809</td>\n",
       "      <td>-0.058138</td>\n",
       "      <td>0.546893</td>\n",
       "    </tr>\n",
       "    <tr>\n",
       "      <th>D</th>\n",
       "      <td>-0.143902</td>\n",
       "      <td>-2.105638</td>\n",
       "      <td>-0.551358</td>\n",
       "      <td>1.325185</td>\n",
       "      <td>0.387650</td>\n",
       "    </tr>\n",
       "    <tr>\n",
       "      <th>E</th>\n",
       "      <td>0.175751</td>\n",
       "      <td>0.280204</td>\n",
       "      <td>1.603345</td>\n",
       "      <td>-0.176357</td>\n",
       "      <td>0.446620</td>\n",
       "    </tr>\n",
       "    <tr>\n",
       "      <th>F</th>\n",
       "      <td>-1.788124</td>\n",
       "      <td>-0.104184</td>\n",
       "      <td>-1.289514</td>\n",
       "      <td>0.213926</td>\n",
       "      <td>0.793740</td>\n",
       "    </tr>\n",
       "  </tbody>\n",
       "</table>\n",
       "</div>"
      ],
      "text/plain": [
       "       col1      col2      col3  col four      col5\n",
       "A -0.934786 -1.338064 -1.146724 -0.536880 -0.841196\n",
       "B -1.499768  0.615511 -0.423809 -0.058138  0.546893\n",
       "D -0.143902 -2.105638 -0.551358  1.325185  0.387650\n",
       "E  0.175751  0.280204  1.603345 -0.176357  0.446620\n",
       "F -1.788124 -0.104184 -1.289514  0.213926  0.793740"
      ]
     },
     "execution_count": 19,
     "metadata": {},
     "output_type": "execute_result"
    }
   ],
   "source": [
    "val=randn(5,5)\n",
    "alpha=['A','B','D','E','F']\n",
    "coln=['col1','col2','col3','col four','col5']\n",
    "df = DataFrame(val,alpha,coln) # same as DataFrame(val,index=alpha,columns=coln)\n",
    "df"
   ]
  },
  {
   "cell_type": "code",
   "execution_count": 14,
   "metadata": {},
   "outputs": [
    {
     "data": {
      "text/html": [
       "<div>\n",
       "<style>\n",
       "    .dataframe thead tr:only-child th {\n",
       "        text-align: right;\n",
       "    }\n",
       "\n",
       "    .dataframe thead th {\n",
       "        text-align: left;\n",
       "    }\n",
       "\n",
       "    .dataframe tbody tr th {\n",
       "        vertical-align: top;\n",
       "    }\n",
       "</style>\n",
       "<table border=\"1\" class=\"dataframe\">\n",
       "  <thead>\n",
       "    <tr style=\"text-align: right;\">\n",
       "      <th></th>\n",
       "      <th>col1</th>\n",
       "      <th>col2</th>\n",
       "      <th>col3</th>\n",
       "      <th>col4</th>\n",
       "      <th>col5</th>\n",
       "    </tr>\n",
       "  </thead>\n",
       "  <tbody>\n",
       "    <tr>\n",
       "      <th>A</th>\n",
       "      <td>-1.077544</td>\n",
       "      <td>-0.382799</td>\n",
       "      <td>-1.243312</td>\n",
       "      <td>1.349612</td>\n",
       "      <td>-0.213314</td>\n",
       "    </tr>\n",
       "    <tr>\n",
       "      <th>B</th>\n",
       "      <td>-0.347564</td>\n",
       "      <td>0.116525</td>\n",
       "      <td>-1.240869</td>\n",
       "      <td>-0.620978</td>\n",
       "      <td>-0.456822</td>\n",
       "    </tr>\n",
       "    <tr>\n",
       "      <th>C</th>\n",
       "      <td>NaN</td>\n",
       "      <td>NaN</td>\n",
       "      <td>NaN</td>\n",
       "      <td>NaN</td>\n",
       "      <td>NaN</td>\n",
       "    </tr>\n",
       "    <tr>\n",
       "      <th>D</th>\n",
       "      <td>-0.156252</td>\n",
       "      <td>-0.493302</td>\n",
       "      <td>-0.268158</td>\n",
       "      <td>0.835250</td>\n",
       "      <td>0.341891</td>\n",
       "    </tr>\n",
       "    <tr>\n",
       "      <th>E</th>\n",
       "      <td>2.342921</td>\n",
       "      <td>0.180270</td>\n",
       "      <td>1.002629</td>\n",
       "      <td>1.910357</td>\n",
       "      <td>0.884075</td>\n",
       "    </tr>\n",
       "    <tr>\n",
       "      <th>F</th>\n",
       "      <td>-0.742997</td>\n",
       "      <td>0.492859</td>\n",
       "      <td>-0.212352</td>\n",
       "      <td>0.471479</td>\n",
       "      <td>-0.806894</td>\n",
       "    </tr>\n",
       "  </tbody>\n",
       "</table>\n",
       "</div>"
      ],
      "text/plain": [
       "       col1      col2      col3      col4      col5\n",
       "A -1.077544 -0.382799 -1.243312  1.349612 -0.213314\n",
       "B -0.347564  0.116525 -1.240869 -0.620978 -0.456822\n",
       "C       NaN       NaN       NaN       NaN       NaN\n",
       "D -0.156252 -0.493302 -0.268158  0.835250  0.341891\n",
       "E  2.342921  0.180270  1.002629  1.910357  0.884075\n",
       "F -0.742997  0.492859 -0.212352  0.471479 -0.806894"
      ]
     },
     "execution_count": 14,
     "metadata": {},
     "output_type": "execute_result"
    }
   ],
   "source": [
    "df2=df.reindex([['A','B','C','D','E','F']]) # reindexing a row\n",
    "df2"
   ]
  },
  {
   "cell_type": "code",
   "execution_count": 37,
   "metadata": {},
   "outputs": [
    {
     "data": {
      "text/html": [
       "<div>\n",
       "<style>\n",
       "    .dataframe thead tr:only-child th {\n",
       "        text-align: right;\n",
       "    }\n",
       "\n",
       "    .dataframe thead th {\n",
       "        text-align: left;\n",
       "    }\n",
       "\n",
       "    .dataframe tbody tr th {\n",
       "        vertical-align: top;\n",
       "    }\n",
       "</style>\n",
       "<table border=\"1\" class=\"dataframe\">\n",
       "  <thead>\n",
       "    <tr style=\"text-align: right;\">\n",
       "      <th></th>\n",
       "      <th>col1</th>\n",
       "      <th>col2</th>\n",
       "      <th>col3</th>\n",
       "      <th>col4</th>\n",
       "      <th>col5</th>\n",
       "      <th>col6</th>\n",
       "    </tr>\n",
       "  </thead>\n",
       "  <tbody>\n",
       "    <tr>\n",
       "      <th>A</th>\n",
       "      <td>-1.077544</td>\n",
       "      <td>-0.382799</td>\n",
       "      <td>-1.243312</td>\n",
       "      <td>1.349612</td>\n",
       "      <td>-0.213314</td>\n",
       "      <td>NaN</td>\n",
       "    </tr>\n",
       "    <tr>\n",
       "      <th>B</th>\n",
       "      <td>-0.347564</td>\n",
       "      <td>0.116525</td>\n",
       "      <td>-1.240869</td>\n",
       "      <td>-0.620978</td>\n",
       "      <td>-0.456822</td>\n",
       "      <td>NaN</td>\n",
       "    </tr>\n",
       "    <tr>\n",
       "      <th>C</th>\n",
       "      <td>NaN</td>\n",
       "      <td>NaN</td>\n",
       "      <td>NaN</td>\n",
       "      <td>NaN</td>\n",
       "      <td>NaN</td>\n",
       "      <td>NaN</td>\n",
       "    </tr>\n",
       "    <tr>\n",
       "      <th>D</th>\n",
       "      <td>-0.156252</td>\n",
       "      <td>-0.493302</td>\n",
       "      <td>-0.268158</td>\n",
       "      <td>0.835250</td>\n",
       "      <td>0.341891</td>\n",
       "      <td>NaN</td>\n",
       "    </tr>\n",
       "    <tr>\n",
       "      <th>E</th>\n",
       "      <td>2.342921</td>\n",
       "      <td>0.180270</td>\n",
       "      <td>1.002629</td>\n",
       "      <td>1.910357</td>\n",
       "      <td>0.884075</td>\n",
       "      <td>NaN</td>\n",
       "    </tr>\n",
       "    <tr>\n",
       "      <th>F</th>\n",
       "      <td>-0.742997</td>\n",
       "      <td>0.492859</td>\n",
       "      <td>-0.212352</td>\n",
       "      <td>0.471479</td>\n",
       "      <td>-0.806894</td>\n",
       "      <td>NaN</td>\n",
       "    </tr>\n",
       "  </tbody>\n",
       "</table>\n",
       "</div>"
      ],
      "text/plain": [
       "       col1      col2      col3      col4      col5  col6\n",
       "A -1.077544 -0.382799 -1.243312  1.349612 -0.213314   NaN\n",
       "B -0.347564  0.116525 -1.240869 -0.620978 -0.456822   NaN\n",
       "C       NaN       NaN       NaN       NaN       NaN   NaN\n",
       "D -0.156252 -0.493302 -0.268158  0.835250  0.341891   NaN\n",
       "E  2.342921  0.180270  1.002629  1.910357  0.884075   NaN\n",
       "F -0.742997  0.492859 -0.212352  0.471479 -0.806894   NaN"
      ]
     },
     "execution_count": 37,
     "metadata": {},
     "output_type": "execute_result"
    }
   ],
   "source": [
    "coln2=['col1','col2','col3','col4','col5','col6'] # reindexing a column\n",
    "df2.reindex(columns=coln2)"
   ]
  },
  {
   "cell_type": "code",
   "execution_count": 16,
   "metadata": {},
   "outputs": [
    {
     "data": {
      "text/html": [
       "<div>\n",
       "<style>\n",
       "    .dataframe thead tr:only-child th {\n",
       "        text-align: right;\n",
       "    }\n",
       "\n",
       "    .dataframe thead th {\n",
       "        text-align: left;\n",
       "    }\n",
       "\n",
       "    .dataframe tbody tr th {\n",
       "        vertical-align: top;\n",
       "    }\n",
       "</style>\n",
       "<table border=\"1\" class=\"dataframe\">\n",
       "  <thead>\n",
       "    <tr style=\"text-align: right;\">\n",
       "      <th></th>\n",
       "      <th>col1</th>\n",
       "      <th>col2</th>\n",
       "      <th>col3</th>\n",
       "      <th>col4</th>\n",
       "      <th>col5</th>\n",
       "      <th>col6</th>\n",
       "    </tr>\n",
       "  </thead>\n",
       "  <tbody>\n",
       "    <tr>\n",
       "      <th>A</th>\n",
       "      <td>-1.077544</td>\n",
       "      <td>-0.382799</td>\n",
       "      <td>-1.243312</td>\n",
       "      <td>1.349612</td>\n",
       "      <td>-0.213314</td>\n",
       "      <td>NaN</td>\n",
       "    </tr>\n",
       "    <tr>\n",
       "      <th>B</th>\n",
       "      <td>-0.347564</td>\n",
       "      <td>0.116525</td>\n",
       "      <td>-1.240869</td>\n",
       "      <td>-0.620978</td>\n",
       "      <td>-0.456822</td>\n",
       "      <td>NaN</td>\n",
       "    </tr>\n",
       "    <tr>\n",
       "      <th>C</th>\n",
       "      <td>NaN</td>\n",
       "      <td>NaN</td>\n",
       "      <td>NaN</td>\n",
       "      <td>NaN</td>\n",
       "      <td>NaN</td>\n",
       "      <td>NaN</td>\n",
       "    </tr>\n",
       "    <tr>\n",
       "      <th>D</th>\n",
       "      <td>-0.156252</td>\n",
       "      <td>-0.493302</td>\n",
       "      <td>-0.268158</td>\n",
       "      <td>0.835250</td>\n",
       "      <td>0.341891</td>\n",
       "      <td>NaN</td>\n",
       "    </tr>\n",
       "    <tr>\n",
       "      <th>E</th>\n",
       "      <td>2.342921</td>\n",
       "      <td>0.180270</td>\n",
       "      <td>1.002629</td>\n",
       "      <td>1.910357</td>\n",
       "      <td>0.884075</td>\n",
       "      <td>NaN</td>\n",
       "    </tr>\n",
       "    <tr>\n",
       "      <th>F</th>\n",
       "      <td>-0.742997</td>\n",
       "      <td>0.492859</td>\n",
       "      <td>-0.212352</td>\n",
       "      <td>0.471479</td>\n",
       "      <td>-0.806894</td>\n",
       "      <td>NaN</td>\n",
       "    </tr>\n",
       "  </tbody>\n",
       "</table>\n",
       "</div>"
      ],
      "text/plain": [
       "       col1      col2      col3      col4      col5  col6\n",
       "A -1.077544 -0.382799 -1.243312  1.349612 -0.213314   NaN\n",
       "B -0.347564  0.116525 -1.240869 -0.620978 -0.456822   NaN\n",
       "C       NaN       NaN       NaN       NaN       NaN   NaN\n",
       "D -0.156252 -0.493302 -0.268158  0.835250  0.341891   NaN\n",
       "E  2.342921  0.180270  1.002629  1.910357  0.884075   NaN\n",
       "F -0.742997  0.492859 -0.212352  0.471479 -0.806894   NaN"
      ]
     },
     "execution_count": 16,
     "metadata": {},
     "output_type": "execute_result"
    }
   ],
   "source": [
    "df.loc[['A','B','C','D','E','F'], coln2] # same as calling .ix"
   ]
  },
  {
   "cell_type": "markdown",
   "metadata": {},
   "source": [
    "## Indexing"
   ]
  },
  {
   "cell_type": "code",
   "execution_count": 20,
   "metadata": {},
   "outputs": [
    {
     "data": {
      "text/plain": [
       "A   -0.934786\n",
       "B   -1.499768\n",
       "D   -0.143902\n",
       "E    0.175751\n",
       "F   -1.788124\n",
       "Name: col1, dtype: float64"
      ]
     },
     "execution_count": 20,
     "metadata": {},
     "output_type": "execute_result"
    }
   ],
   "source": [
    "df.col1 # grabbing one-word colums. Same as df['col1']"
   ]
  },
  {
   "cell_type": "code",
   "execution_count": 21,
   "metadata": {},
   "outputs": [
    {
     "data": {
      "text/plain": [
       "A   -0.536880\n",
       "B   -0.058138\n",
       "D    1.325185\n",
       "E   -0.176357\n",
       "F    0.213926\n",
       "Name: col four, dtype: float64"
      ]
     },
     "execution_count": 21,
     "metadata": {},
     "output_type": "execute_result"
    }
   ],
   "source": [
    "df['col four'] # to grab columns that are more than one word"
   ]
  },
  {
   "cell_type": "code",
   "execution_count": 22,
   "metadata": {},
   "outputs": [
    {
     "data": {
      "text/html": [
       "<div>\n",
       "<style>\n",
       "    .dataframe thead tr:only-child th {\n",
       "        text-align: right;\n",
       "    }\n",
       "\n",
       "    .dataframe thead th {\n",
       "        text-align: left;\n",
       "    }\n",
       "\n",
       "    .dataframe tbody tr th {\n",
       "        vertical-align: top;\n",
       "    }\n",
       "</style>\n",
       "<table border=\"1\" class=\"dataframe\">\n",
       "  <thead>\n",
       "    <tr style=\"text-align: right;\">\n",
       "      <th></th>\n",
       "      <th>col1</th>\n",
       "      <th>col2</th>\n",
       "      <th>col3</th>\n",
       "      <th>col four</th>\n",
       "      <th>col5</th>\n",
       "    </tr>\n",
       "  </thead>\n",
       "  <tbody>\n",
       "    <tr>\n",
       "      <th>A</th>\n",
       "      <td>-0.934786</td>\n",
       "      <td>-1.338064</td>\n",
       "      <td>-1.146724</td>\n",
       "      <td>-0.536880</td>\n",
       "      <td>-0.841196</td>\n",
       "    </tr>\n",
       "    <tr>\n",
       "      <th>B</th>\n",
       "      <td>-1.499768</td>\n",
       "      <td>0.615511</td>\n",
       "      <td>-0.423809</td>\n",
       "      <td>-0.058138</td>\n",
       "      <td>0.546893</td>\n",
       "    </tr>\n",
       "  </tbody>\n",
       "</table>\n",
       "</div>"
      ],
      "text/plain": [
       "       col1      col2      col3  col four      col5\n",
       "A -0.934786 -1.338064 -1.146724 -0.536880 -0.841196\n",
       "B -1.499768  0.615511 -0.423809 -0.058138  0.546893"
      ]
     },
     "execution_count": 22,
     "metadata": {},
     "output_type": "execute_result"
    }
   ],
   "source": [
    "df[0:2] # slicing rows"
   ]
  },
  {
   "cell_type": "code",
   "execution_count": 33,
   "metadata": {},
   "outputs": [
    {
     "data": {
      "text/html": [
       "<div>\n",
       "<style>\n",
       "    .dataframe thead tr:only-child th {\n",
       "        text-align: right;\n",
       "    }\n",
       "\n",
       "    .dataframe thead th {\n",
       "        text-align: left;\n",
       "    }\n",
       "\n",
       "    .dataframe tbody tr th {\n",
       "        vertical-align: top;\n",
       "    }\n",
       "</style>\n",
       "<table border=\"1\" class=\"dataframe\">\n",
       "  <thead>\n",
       "    <tr style=\"text-align: right;\">\n",
       "      <th></th>\n",
       "      <th>col1</th>\n",
       "      <th>col2</th>\n",
       "      <th>col3</th>\n",
       "      <th>col four</th>\n",
       "      <th>col5</th>\n",
       "    </tr>\n",
       "  </thead>\n",
       "  <tbody>\n",
       "    <tr>\n",
       "      <th>B</th>\n",
       "      <td>-1.499768</td>\n",
       "      <td>0.615511</td>\n",
       "      <td>-0.423809</td>\n",
       "      <td>-0.058138</td>\n",
       "      <td>0.546893</td>\n",
       "    </tr>\n",
       "    <tr>\n",
       "      <th>D</th>\n",
       "      <td>-0.143902</td>\n",
       "      <td>-2.105638</td>\n",
       "      <td>-0.551358</td>\n",
       "      <td>1.325185</td>\n",
       "      <td>0.387650</td>\n",
       "    </tr>\n",
       "    <tr>\n",
       "      <th>E</th>\n",
       "      <td>0.175751</td>\n",
       "      <td>0.280204</td>\n",
       "      <td>1.603345</td>\n",
       "      <td>-0.176357</td>\n",
       "      <td>0.446620</td>\n",
       "    </tr>\n",
       "    <tr>\n",
       "      <th>F</th>\n",
       "      <td>-1.788124</td>\n",
       "      <td>-0.104184</td>\n",
       "      <td>-1.289514</td>\n",
       "      <td>0.213926</td>\n",
       "      <td>0.793740</td>\n",
       "    </tr>\n",
       "  </tbody>\n",
       "</table>\n",
       "</div>"
      ],
      "text/plain": [
       "       col1      col2      col3  col four      col5\n",
       "B -1.499768  0.615511 -0.423809 -0.058138  0.546893\n",
       "D -0.143902 -2.105638 -0.551358  1.325185  0.387650\n",
       "E  0.175751  0.280204  1.603345 -0.176357  0.446620\n",
       "F -1.788124 -0.104184 -1.289514  0.213926  0.793740"
      ]
     },
     "execution_count": 33,
     "metadata": {},
     "output_type": "execute_result"
    }
   ],
   "source": [
    "df[df['col5']>0] # indexing with logic"
   ]
  },
  {
   "cell_type": "code",
   "execution_count": null,
   "metadata": {
    "collapsed": true
   },
   "outputs": [],
   "source": []
  }
 ],
 "metadata": {
  "kernelspec": {
   "display_name": "Python 3",
   "language": "python",
   "name": "python3"
  },
  "language_info": {
   "codemirror_mode": {
    "name": "ipython",
    "version": 3
   },
   "file_extension": ".py",
   "mimetype": "text/x-python",
   "name": "python",
   "nbconvert_exporter": "python",
   "pygments_lexer": "ipython3",
   "version": "3.5.2"
  }
 },
 "nbformat": 4,
 "nbformat_minor": 2
}
